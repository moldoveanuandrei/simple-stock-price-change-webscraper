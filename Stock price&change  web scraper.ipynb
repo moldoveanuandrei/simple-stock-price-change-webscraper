{
 "cells": [
  {
   "cell_type": "markdown",
   "id": "dd65530d",
   "metadata": {},
   "source": [
    "### Simple stocks price&change web scraper"
   ]
  },
  {
   "cell_type": "code",
   "execution_count": 26,
   "id": "3d6c39a7",
   "metadata": {},
   "outputs": [],
   "source": [
    "#importing needed libreries\n",
    "import requests\n",
    "from bs4 import BeautifulSoup"
   ]
  },
  {
   "cell_type": "markdown",
   "id": "2574a5b0",
   "metadata": {},
   "source": [
    "### 1. Testing the scraper\n",
    "-  Using `Requests` and `BeautifulSoup` libraries in order to scrape Yahoo finance.com . I will choose Hilton Worldwide Holdings Inc. (HLT) for this scraping test."
   ]
  },
  {
   "cell_type": "code",
   "execution_count": 32,
   "id": "b9d19be8",
   "metadata": {},
   "outputs": [],
   "source": [
    "url = 'https://finance.yahoo.com/quote/HLT'\n",
    "r = requests.get(url)\n",
    "soup =  BeautifulSoup(r.text, 'html.parser')"
   ]
  },
  {
   "cell_type": "markdown",
   "id": "d4dbe430",
   "metadata": {},
   "source": [
    "- By using `Inspect` function in Google Chrome I am able to navigate and extract the `price` and `change` for a particular stock, in my case I choose Hilton Worldwide Holdings Inc. (HLT). \n",
    "- I will use 2 methods to be sure that I am getting the right outcome even if I change the stock symbol. taking the price and change individually by \"fin=streamer\"."
   ]
  },
  {
   "cell_type": "code",
   "execution_count": 19,
   "id": "1aae112d",
   "metadata": {},
   "outputs": [
    {
     "name": "stdout",
     "output_type": "stream",
     "text": [
      "131.00 -4.67\n"
     ]
    }
   ],
   "source": [
    "# 1st method.Taking the price&change individually by \"fin=streamer\".\n",
    "price = soup.find('fin-streamer', {'class': 'Fw(b) Fz(36px) Mb(-4px) D(ib)'}).text # .text is added in order to extract only the number\n",
    "change = soup.find('fin-streamer', {'class': 'Fw(500) Pstart(8px) Fz(24px)'}).text\n",
    "print(price, change)"
   ]
  },
  {
   "cell_type": "code",
   "execution_count": 20,
   "id": "c6af605e",
   "metadata": {},
   "outputs": [
    {
     "name": "stdout",
     "output_type": "stream",
     "text": [
      "131.00 -4.67\n"
     ]
    }
   ],
   "source": [
    "# 2nd method. Moving one up and thake 'div' \n",
    "price =  soup.find('div', {'class': 'D(ib) Mend(20px)'}).find_all('fin-streamer')[0].text\n",
    "change =  soup.find('div', {'class': 'D(ib) Mend(20px)'}).find_all('fin-streamer')[1].text\n",
    "\n",
    "print(price, change)"
   ]
  },
  {
   "cell_type": "markdown",
   "id": "762cfadb",
   "metadata": {},
   "source": [
    "- Cool, both method worked! I was afraid that if I change the stock, because of different colors the website is showing on different stocks, I might get no outcome. "
   ]
  },
  {
   "cell_type": "markdown",
   "id": "405c1012",
   "metadata": {},
   "source": [
    "### 2. Defining a function which can be call to provide informations about price&change for different stocks\n",
    "\n",
    "- The function should not be that hard to define given the fact that we already have the body. With some small changes we can define the function as follow:"
   ]
  },
  {
   "cell_type": "code",
   "execution_count": 30,
   "id": "f36a03bc",
   "metadata": {},
   "outputs": [],
   "source": [
    "def getStock(symbol):\n",
    "    url = f'https://finance.yahoo.com/quote/{symbol}'\n",
    "    r = requests.get(url)\n",
    "    soup =  BeautifulSoup(r.text, 'html.parser')\n",
    "    stock = {\n",
    "        'symbol': symbol,\n",
    "        'price': soup.find('fin-streamer', {'class': 'Fw(b) Fz(36px) Mb(-4px) D(ib)'}).text,\n",
    "        'change': soup.find('fin-streamer', {'class': 'Fw(500) Pstart(8px) Fz(24px)'}).text\n",
    "    }\n",
    "    return stock"
   ]
  },
  {
   "cell_type": "code",
   "execution_count": 31,
   "id": "1f9614b4",
   "metadata": {},
   "outputs": [
    {
     "name": "stdout",
     "output_type": "stream",
     "text": [
      "{'symbol': 'HLT', 'price': '132.01', 'change': '-3.66'}\n"
     ]
    }
   ],
   "source": [
    "print(getStock('HLT'))"
   ]
  },
  {
   "cell_type": "markdown",
   "id": "ae889939",
   "metadata": {},
   "source": [
    "- Cool, it worked! \n",
    "\n",
    "Now let's move forward and extract more stocks prices&changes. For this we would need a list of some preferred socks, an empty list and a for loop."
   ]
  },
  {
   "cell_type": "code",
   "execution_count": 33,
   "id": "6c056d1f",
   "metadata": {},
   "outputs": [
    {
     "name": "stdout",
     "output_type": "stream",
     "text": [
      "[{'symbol': 'TSLA', 'price': '190.02', 'change': '-2.20'}, {'symbol': 'BAC', 'price': '27.10', 'change': '+0.14'}, {'symbol': 'FRC', 'price': '12.36', 'change': '-0.17'}, {'symbol': 'CS', 'price': '0.8569', 'change': '-0.0150'}, {'symbol': 'AMD', 'price': '97.74', 'change': '-2.54'}, {'symbol': 'F', 'price': '11.49', 'change': '+0.07'}, {'symbol': 'SQ', 'price': '60.91', 'change': '-0.97'}, {'symbol': 'AMZN', 'price': '97.79', 'change': '-0.92'}, {'symbol': 'AAPL', 'price': '159.65', 'change': '+0.72'}, {'symbol': 'DB', 'price': '9.32', 'change': '-0.33'}, {'symbol': 'INTC', 'price': '29.14', 'change': '+0.11'}, {'symbol': 'NVDA', 'price': '265.90', 'change': '-6.01'}]\n"
     ]
    }
   ],
   "source": [
    "#list of mystocks \n",
    "mystocks = ['TSLA','BAC','FRC','CS','AMD','F','SQ','AMZN','AAPL','DB','INTC','NVDA']\n",
    "#empty list\n",
    "stockdata = []\n",
    "\n",
    "for item in mystocks:\n",
    "    stockdata.append(getStock(item))\n",
    "print(stockdata)"
   ]
  },
  {
   "cell_type": "code",
   "execution_count": null,
   "id": "8d326dd2",
   "metadata": {},
   "outputs": [],
   "source": []
  }
 ],
 "metadata": {
  "kernelspec": {
   "display_name": "Python 3 (ipykernel)",
   "language": "python",
   "name": "python3"
  },
  "language_info": {
   "codemirror_mode": {
    "name": "ipython",
    "version": 3
   },
   "file_extension": ".py",
   "mimetype": "text/x-python",
   "name": "python",
   "nbconvert_exporter": "python",
   "pygments_lexer": "ipython3",
   "version": "3.10.9"
  }
 },
 "nbformat": 4,
 "nbformat_minor": 5
}
